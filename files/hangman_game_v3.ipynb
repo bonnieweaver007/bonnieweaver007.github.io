{
  "cells": [
    {
      "cell_type": "code",
      "execution_count": 39,
      "metadata": {
        "id": "Mg6SezijCl6k"
      },
      "outputs": [],
      "source": [
        "import random\n",
        "import time\n",
        "from IPython.display import clear_output"
      ]
    },
    {
      "cell_type": "code",
      "execution_count": 40,
      "metadata": {
        "colab": {
          "base_uri": "https://localhost:8080/"
        },
        "id": "H641KsGfCvkc",
        "outputId": "e3ef8313-3395-40d1-d03e-6050b8031dd9"
      },
      "outputs": [
        {
          "output_type": "stream",
          "name": "stdout",
          "text": [
            "Drive already mounted at /content/gdrive; to attempt to forcibly remount, call drive.mount(\"/content/gdrive\", force_remount=True).\n"
          ]
        }
      ],
      "source": [
        "from google.colab import drive\n",
        "drive.mount('/content/gdrive')"
      ]
    },
    {
      "cell_type": "code",
      "execution_count": 41,
      "metadata": {
        "id": "RCVBB595CxCV"
      },
      "outputs": [],
      "source": [
        "def print_rules() -> None:\n",
        "    \"\"\"\n",
        "    Prints hangman rules.\n",
        "    \"\"\"\n",
        "    start_man = \"\"\"\n",
        "         ______\n",
        "        |      |\n",
        "        |\n",
        "        |\n",
        "        |\n",
        "        |\n",
        "      __|________\n",
        "\n",
        "    \"\"\"\n",
        "\n",
        "    print(f'Welcome to Hangman!')\n",
        "    print(f'Rules: Guess the word before the hangman gains all its limbs.')\n",
        "    print(start_man)"
      ]
    },
    {
      "cell_type": "code",
      "execution_count": 42,
      "metadata": {
        "id": "2z25vTjuC2-J"
      },
      "outputs": [],
      "source": [
        "def pick_word() -> str:\n",
        "    \"\"\"\n",
        "    Picks a random word from a word bank.\n",
        "\n",
        "    Returns:\n",
        "        (str):      Returns an uppercase word in a string.\n",
        "    \"\"\"\n",
        "    folder_path = '/content/gdrive/MyDrive/Colab Notebooks/text_files/'\n",
        "\n",
        "    with open(folder_path + \"english-common-words.txt\", \"r\") as file:\n",
        "        lines = file.readlines()\n",
        "\n",
        "    word = random.choice(lines)     # randomly chooses a line from the file (each line is a word)\n",
        "\n",
        "    return word.strip().upper()     # returns the word in all uppercase letters"
      ]
    },
    {
      "cell_type": "code",
      "execution_count": 43,
      "metadata": {
        "id": "zN6TqacnDF_U"
      },
      "outputs": [],
      "source": [
        "def letter_check(word: str, user_letter: str, guessed_word: set, incorrect_letters: set) -> int:\n",
        "    \"\"\"\n",
        "    Checks if the user guessed letter is a valid character, if it has already been guessed, or if it is in the random word.\n",
        "\n",
        "    Args:\n",
        "        word              (str):        A randomly chosen 5 letter word from a file containing words.\n",
        "        user_letter       (str):        A string containing a single alphabetic letter.\n",
        "        guessed_word      (set):        A set of all letters that are in the chosen word.\n",
        "        incorrect_letters (set):        A set of all letters that are not in the chosen word.\n",
        "\n",
        "    Returns:\n",
        "        (int):       Returns an integer value depending on whether the user inputted letter is valid, already guessed, or in the word.\n",
        "\n",
        "    Examples:\n",
        "        >>> letter_check(\"HELLO\", \"L\", set(), {\"Z\", \"P\"})\n",
        "            3\n",
        "\n",
        "        >>> letter_check(\"GOODBYE\", \"H\", {\"E\", \"O\"}, {\"R\", \"S\", \"T\"})\n",
        "            4\n",
        "\n",
        "        >>> letter_check(\"SUPER\", \"UU\", {\"R\"}, {\"L\"})\n",
        "            1\n",
        "\n",
        "        >>> letter_check(\"HIPPO\", \"P\", {\"P\", \"O\"}, set())\n",
        "            2\n",
        "    \"\"\"\n",
        "    if not user_letter.isalpha() or len(user_letter) != 1:      # checks if letter is not in alphabet or if it is longer than 1\n",
        "        return 1\n",
        "\n",
        "    elif user_letter in guessed_word or user_letter in incorrect_letters:       # checks if letter has already been guessed\n",
        "        return 2\n",
        "\n",
        "    elif user_letter in word:               # checks if letter is in the word\n",
        "        guessed_word.add(user_letter)       # adds letter to set of correctly guessed letters\n",
        "        return 3\n",
        "\n",
        "    else:\n",
        "        incorrect_letters.add(user_letter)     # adds letter to set of incorrectly guessed letters\n",
        "        return 4"
      ]
    },
    {
      "cell_type": "code",
      "execution_count": 44,
      "metadata": {
        "id": "h6YwgmJhDOTQ"
      },
      "outputs": [],
      "source": [
        "def print_word_progress(word: str, user_letter: str, current_word: list) -> list:\n",
        "    \"\"\"\n",
        "    Takes the current status of the chosen word and updates it with newly guessed letters in the right positions.\n",
        "\n",
        "    Args:\n",
        "        word              (str):        A randomly chosen 5 letter word from a file containing words.\n",
        "        user_letter       (str):        A string containing a single alphabetic letter.\n",
        "        current_word     (list):        A list containing the current status of the word. Elements are letters that are positioned as they would\n",
        "                                        be in the word.\n",
        "\n",
        "    Returns:\n",
        "        current_word     (list):        A list containing the current status of the word. Elements are letters that are positioned as they would\n",
        "                                        be in the word.\n",
        "\n",
        "    Examples:\n",
        "        >>> print_word_progress(\"HAPPY\", \"P\", [\"*\", \"*\", \"*\", \"*\", \"*\"])\n",
        "            [\"*\", \"*\", \"P\", \"P\", \"*\"]\n",
        "\n",
        "        >>> print_word_progress(\"WONDER\", \"D\", [\"W\", \"*\", \"*\", \"*\", \"E\", \"R\"])\n",
        "            [\"W\", \"*\", \"*\", \"D\", \"E\", \"R\"]\n",
        "\n",
        "        >>> print_word_progress(\"SUPER\", \"A\", [\"S\", \"*\", \"*\", \"E\", \"*\"])\n",
        "            [\"S\", \"*\", \"*\", \"E\", \"*\"]\n",
        "    \"\"\"\n",
        "    for index in range(len(word)):              # loops through word\n",
        "        if word[index] == user_letter:              # checks whether word at index is the same as the user's guessed letter\n",
        "            current_word[index] = user_letter       # if it is the same, replaces a \"*\" with the letter at that index\n",
        "\n",
        "    return current_word"
      ]
    },
    {
      "cell_type": "code",
      "execution_count": 45,
      "metadata": {
        "id": "pUNCSy5aDQH1"
      },
      "outputs": [],
      "source": [
        "def list_to_string(current_word: list) -> str:\n",
        "    \"\"\"\n",
        "    Converts a list in which each element represents a letter of a word into a string.\n",
        "\n",
        "    Args:\n",
        "        current_word     (list):        A list containing the current status of the word. Elements are letters that are positioned as they would\n",
        "                                        be in the word.\n",
        "\n",
        "    Returns:\n",
        "                          (str):        A string containing made up of the elements in the inputted list.\n",
        "    Examples:\n",
        "        >>> list_to_string([\"H\", \"E\", \"L\", \"L\", \"O\"])\n",
        "            \"HELLO\"\n",
        "\n",
        "        >>> list_to_string([\"G\", \"O\", \"O\", \"D\", \"B\", \"Y\", \"E\"])\n",
        "            \"GOODBYE\"\n",
        "    \"\"\"\n",
        "    word_string = \"\"\n",
        "\n",
        "    for element in current_word:        # takes each element and adds them to a string to get the word in a string, not a list\n",
        "        word_string += element\n",
        "\n",
        "    return word_string"
      ]
    },
    {
      "cell_type": "code",
      "execution_count": 46,
      "metadata": {
        "id": "E8PzKtIpDRtw"
      },
      "outputs": [],
      "source": [
        "def print_hangman_pic(graphics_index: int) -> str:\n",
        "    \"\"\"\n",
        "    Returns a depiction of a hangman representing different stages in the game.\n",
        "\n",
        "    Args:\n",
        "        graphics_index (int):        An integer 0-6 that is used to index a list of string graphics.\n",
        "\n",
        "    Returns:\n",
        "                       (str):        A multi-line string that represents a hangman drawing.\n",
        "    \"\"\"\n",
        "    start_man = \"\"\"\n",
        "         ______\n",
        "        |      |\n",
        "        |\n",
        "        |\n",
        "        |\n",
        "        |\n",
        "      __|________ \"\"\"\n",
        "\n",
        "    first_man = \"\"\"\n",
        "         ______\n",
        "        |      |\n",
        "        |      O\n",
        "        |\n",
        "        |\n",
        "        |\n",
        "      __|________ \"\"\"\n",
        "\n",
        "    second_man = \"\"\"\n",
        "         ______\n",
        "        |      |\n",
        "        |      O\n",
        "        |      |\n",
        "        |\n",
        "        |\n",
        "      __|________ \"\"\"\n",
        "\n",
        "    third_man = \"\"\"\n",
        "         ______\n",
        "        |      |\n",
        "        |      O\n",
        "        |      |\n",
        "        |      |\n",
        "        |\n",
        "      __|________ \"\"\"\n",
        "\n",
        "    forth_man = \"\"\"\n",
        "         ______\n",
        "        |      |\n",
        "        |      O\n",
        "        |    __|\n",
        "        |      |\n",
        "        |\n",
        "      __|________ \"\"\"\n",
        "\n",
        "    fifth_man = \"\"\"\n",
        "         ______\n",
        "        |      |\n",
        "        |      O\n",
        "        |    __|__\n",
        "        |      |\n",
        "        |\n",
        "      __|________ \"\"\"\n",
        "\n",
        "    sixth_man = \"\"\"\n",
        "         ______\n",
        "        |      |\n",
        "        |      O\n",
        "        |    __|__\n",
        "        |      |\n",
        "        |     /\n",
        "      __|________ \"\"\"\n",
        "\n",
        "    end_man = \"\"\"\n",
        "         ______\n",
        "        |      |\n",
        "        |      O\n",
        "        |    __|__\n",
        "        |      |\n",
        "        |     / \\\\\n",
        "      __|________ \"\"\"\n",
        "\n",
        "    graphics_list = [start_man, first_man, second_man, third_man, forth_man, fifth_man, sixth_man, end_man]\n",
        "\n",
        "    return graphics_list[graphics_index]"
      ]
    },
    {
      "cell_type": "code",
      "execution_count": 47,
      "metadata": {
        "id": "KoD-xKEDDTkf"
      },
      "outputs": [],
      "source": [
        "def play_hangman() -> None:\n",
        "    \"\"\"\n",
        "    Prints whether or not the user inputted letter is valid, already guessed, and in or not in the word. Prints visuals for the hangman, as well\n",
        "    as the word's progress throughout the game.\n",
        "    \"\"\"\n",
        "    word = pick_word()          # calls for the random word to be picked\n",
        "    guessed_word = set()        # this is the set of all correctly guessed letters\n",
        "    incorrect_letters = set()      # this is the set of all incorrectly guessed letters\n",
        "\n",
        "    current_word = [\"*\"] * len(word)    # current_word starts off as stars and gets updated with letters as the game progresses\n",
        "    graphics_index = 0\n",
        "\n",
        "    print_rules()\n",
        "    print(f'WORD: {\"*\" * len(word)}\\n')\n",
        "\n",
        "    while len(guessed_word) < len(set(word)):       # keeps going as long as all the letters in the word have not been guessed\n",
        "\n",
        "        clear_output(wait = True)       # clears the display\n",
        "\n",
        "        time.sleep(.25)         # time delay\n",
        "\n",
        "        user_letter = input(\"Guess a letter: \").strip().upper()\n",
        "        word_result = letter_check(word, user_letter, guessed_word, incorrect_letters)\n",
        "\n",
        "        if word_result == 1:\n",
        "            print(f'\\n{user_letter} is not accepted. Please enter a single alphabetic letter.\\n')\n",
        "\n",
        "            print(f'{print_hangman_pic(graphics_index)} \\n')        # here we are printing a new picture where the hangman has gained a limb\n",
        "            print(f'WORD: {list_to_string(print_word_progress(word, user_letter, current_word))}\\n')\n",
        "            print(f'Word does not contain: {list(incorrect_letters)}\\n')\n",
        "\n",
        "        elif word_result == 2:\n",
        "            print(f'\\n{user_letter} has already been guessed.\\n')\n",
        "\n",
        "            print(f'{print_hangman_pic(graphics_index)} \\n')\n",
        "            print(f'WORD: {list_to_string(print_word_progress(word, user_letter, current_word))}\\n')\n",
        "            print(f'Word does not contain: {list(incorrect_letters)}\\n')\n",
        "\n",
        "        elif word_result == 3:\n",
        "            print(f'\\n{user_letter} is in word!')\n",
        "\n",
        "            print(f'{print_hangman_pic(graphics_index)} \\n')\n",
        "            print(f'WORD: {list_to_string(print_word_progress(word, user_letter, current_word))}\\n')\n",
        "            print(f'Word does not contain: {list(incorrect_letters)}\\n')\n",
        "\n",
        "        elif word_result == 4:\n",
        "            print(f'\\n{user_letter} is not in word.')\n",
        "            graphics_index += 1             # this adds a limb to the hangman\n",
        "\n",
        "            if graphics_index == 7:                     # if the index reaches 7, there are no more limbs to add -> hangman dies\n",
        "                print(f'{print_hangman_pic(7)} \\n')\n",
        "                print(f'Your hangman died!\\n\\n WORD: {word}\\n GAME OVER.')\n",
        "\n",
        "                return\n",
        "\n",
        "            else:\n",
        "                print(f'{print_hangman_pic(graphics_index)} \\n')\n",
        "                print(f'WORD: {list_to_string(print_word_progress(word, user_letter, current_word))}\\n')\n",
        "                print(f'Word does not contain: {list(incorrect_letters)}\\n')\n",
        "\n",
        "    print(f'You guessed it! The word is {word}.')"
      ]
    },
    {
      "cell_type": "code",
      "execution_count": null,
      "metadata": {
        "colab": {
          "base_uri": "https://localhost:8080/"
        },
        "id": "ozxWz9C0DWBY",
        "outputId": "3b00d5ce-72e7-47dc-f9a6-eb4b6531669c"
      },
      "outputs": [
        {
          "output_type": "stream",
          "name": "stdout",
          "text": [
            "Welcome to Hangman!\n",
            "Rules: Guess the word before the hangman gains all its limbs.\n",
            "\n",
            "         ______\n",
            "        |      |\n",
            "        |\n",
            "        |\n",
            "        |\n",
            "        |\n",
            "      __|________\n",
            "\n",
            "    \n",
            "WORD: ***\n",
            "\n"
          ]
        }
      ],
      "source": [
        "play_hangman()"
      ]
    }
  ],
  "metadata": {
    "colab": {
      "provenance": []
    },
    "kernelspec": {
      "display_name": "Python 3",
      "name": "python3"
    },
    "language_info": {
      "name": "python"
    }
  },
  "nbformat": 4,
  "nbformat_minor": 0
}